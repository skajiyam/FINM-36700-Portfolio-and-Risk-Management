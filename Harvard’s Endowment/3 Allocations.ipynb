{
 "cells": [
  {
   "cell_type": "markdown",
   "id": "0d191880",
   "metadata": {},
   "source": [
    "# 3. Allocations"
   ]
  },
  {
   "cell_type": "code",
   "execution_count": 171,
   "id": "7e7e0fab",
   "metadata": {},
   "outputs": [],
   "source": [
    "import pandas as pd\n",
    "import numpy as np\n",
    "from plotnine import ggplot, aes, geom_bar, labs\n",
    "\n",
    "file_path = \"./data/multi_asset_etf_data.xlsx\"\n",
    "excess_returns_df = pd.read_excel(file_path, \n",
    "                                  sheet_name=\"excess returns\", \n",
    "                                  parse_dates=[\"Date\"],\n",
    "                                  index_col=\"Date\") # monthly excess returns\n",
    "\n",
    "excess_returns_df = excess_returns_df.drop(columns=[\"QAI\"]) #resolve issue with data"
   ]
  },
  {
   "cell_type": "code",
   "execution_count": 172,
   "id": "ebe0cf99",
   "metadata": {},
   "outputs": [],
   "source": [
    "MU_TARGET = 0.01\n",
    "assets = excess_returns_df.columns\n",
    "\n",
    "def calc_tan_weights(returns):\n",
    "    \"\"\"\n",
    "    Calculate tangency weights for a set of returns\n",
    "    \"\"\"\n",
    "    cov_matrix = returns.cov() \n",
    "    cov_vals = cov_matrix.values\n",
    "    mean_vals = returns.mean().values\n",
    "\n",
    "    w_unnormalized = np.linalg.inv(cov_vals) @ mean_vals\n",
    "    w_tan = w_unnormalized / np.sum(w_unnormalized)\n",
    "\n",
    "    return w_tan\n",
    "\n",
    "\n",
    "def performance(weights, returns, label):\n",
    "    \"\"\"\n",
    "    Calculate performance of weighted portfolios\n",
    "    \"\"\"\n",
    "    portfolio_returns = returns @ weights\n",
    "\n",
    "    annualized_mean = portfolio_returns.mean() * 12\n",
    "    annualized_vol = portfolio_returns.std() * np.sqrt(12)\n",
    "    annualized_sharpe = (portfolio_returns.mean() / portfolio_returns.std()) * np.sqrt(12)\n",
    "\n",
    "    portfolio_performance = pd.DataFrame({\n",
    "        \"Portfolio Type\": [label],\n",
    "        \"Annualized Mean\": [annualized_mean],\n",
    "        \"Annualized Volatility\": [annualized_vol],\n",
    "        \"Annualized Sharpe Ratio\": [annualized_sharpe]\n",
    "    })\n",
    "\n",
    "    return portfolio_performance"
   ]
  },
  {
   "cell_type": "markdown",
   "id": "223033ba",
   "metadata": {},
   "source": [
    "# Comparison"
   ]
  },
  {
   "cell_type": "code",
   "execution_count": null,
   "id": "7bce13df",
   "metadata": {},
   "outputs": [],
   "source": [
    "num_assets = len(excess_returns_df.columns)\n",
    "weights = pd.DataFrame(index=excess_returns_df.columns)\n",
    "weights['Equal Weights'] = 1/num_assets #Equally Weighted\n",
    "weights['Risk Parity Weights'] = 1 / (excess_returns_df.var()) #Risk Parity Weighted\n",
    "weights['Mean-Variance Weights'] = calc_tan_weights(excess_returns_df) #Mean-Variance Weighted\n",
    "\n",
    "weights_scaled = (weights * MU_TARGET) / (excess_returns_df.mean() @ weights)\n",
    "weights_scaled = weights_scaled.round(4)"
   ]
  },
  {
   "cell_type": "code",
   "execution_count": 177,
   "id": "aa6d694e",
   "metadata": {},
   "outputs": [
    {
     "data": {
      "application/vnd.microsoft.datawrangler.viewer.v0+json": {
       "columns": [
        {
         "name": "index",
         "rawType": "int64",
         "type": "integer"
        },
        {
         "name": "Portfolio Type",
         "rawType": "object",
         "type": "string"
        },
        {
         "name": "Annualized Mean",
         "rawType": "float64",
         "type": "float"
        },
        {
         "name": "Annualized Volatility",
         "rawType": "float64",
         "type": "float"
        },
        {
         "name": "Annualized Sharpe Ratio",
         "rawType": "float64",
         "type": "float"
        }
       ],
       "ref": "77949b8f-e467-4275-9c6e-7b662a090d77",
       "rows": [
        [
         "0",
         "Equal Weights",
         "0.12",
         "0.2693",
         "0.4457"
        ],
        [
         "0",
         "Risk Parity Weights",
         "0.12",
         "0.2639",
         "0.4547"
        ],
        [
         "0",
         "Mean-Variance Weights",
         "0.12",
         "0.0817",
         "1.4692"
        ]
       ],
       "shape": {
        "columns": 4,
        "rows": 3
       }
      },
      "text/html": [
       "<div>\n",
       "<style scoped>\n",
       "    .dataframe tbody tr th:only-of-type {\n",
       "        vertical-align: middle;\n",
       "    }\n",
       "\n",
       "    .dataframe tbody tr th {\n",
       "        vertical-align: top;\n",
       "    }\n",
       "\n",
       "    .dataframe thead th {\n",
       "        text-align: right;\n",
       "    }\n",
       "</style>\n",
       "<table border=\"1\" class=\"dataframe\">\n",
       "  <thead>\n",
       "    <tr style=\"text-align: right;\">\n",
       "      <th></th>\n",
       "      <th>Portfolio Type</th>\n",
       "      <th>Annualized Mean</th>\n",
       "      <th>Annualized Volatility</th>\n",
       "      <th>Annualized Sharpe Ratio</th>\n",
       "    </tr>\n",
       "  </thead>\n",
       "  <tbody>\n",
       "    <tr>\n",
       "      <th>0</th>\n",
       "      <td>Equal Weights</td>\n",
       "      <td>0.12</td>\n",
       "      <td>0.2693</td>\n",
       "      <td>0.4457</td>\n",
       "    </tr>\n",
       "    <tr>\n",
       "      <th>0</th>\n",
       "      <td>Risk Parity Weights</td>\n",
       "      <td>0.12</td>\n",
       "      <td>0.2639</td>\n",
       "      <td>0.4547</td>\n",
       "    </tr>\n",
       "    <tr>\n",
       "      <th>0</th>\n",
       "      <td>Mean-Variance Weights</td>\n",
       "      <td>0.12</td>\n",
       "      <td>0.0817</td>\n",
       "      <td>1.4692</td>\n",
       "    </tr>\n",
       "  </tbody>\n",
       "</table>\n",
       "</div>"
      ],
      "text/plain": [
       "          Portfolio Type  Annualized Mean  Annualized Volatility  \\\n",
       "0          Equal Weights             0.12                 0.2693   \n",
       "0    Risk Parity Weights             0.12                 0.2639   \n",
       "0  Mean-Variance Weights             0.12                 0.0817   \n",
       "\n",
       "   Annualized Sharpe Ratio  \n",
       "0                   0.4457  \n",
       "0                   0.4547  \n",
       "0                   1.4692  "
      ]
     },
     "execution_count": 177,
     "metadata": {},
     "output_type": "execute_result"
    }
   ],
   "source": [
    "#Compare Portfolios:\n",
    "eq_performance = performance(weights_scaled[\"Equal Weights\"], excess_returns_df, \"Equal Weights\")\n",
    "rp_performance = performance(weights_scaled[\"Risk Parity Weights\"], excess_returns_df, \"Risk Parity Weights\")\n",
    "mv_performance = performance(weights_scaled[\"Mean-Variance Weights\"], excess_returns_df, \"Mean-Variance Weights\")\n",
    "\n",
    "comparison = pd.concat(\n",
    "        [eq_performance.round(4),\n",
    "        rp_performance.round(4),\n",
    "        mv_performance.round(4)],\n",
    "    )\n",
    "comparison\n"
   ]
  }
 ],
 "metadata": {
  "kernelspec": {
   "display_name": "finm",
   "language": "python",
   "name": "python3"
  },
  "language_info": {
   "codemirror_mode": {
    "name": "ipython",
    "version": 3
   },
   "file_extension": ".py",
   "mimetype": "text/x-python",
   "name": "python",
   "nbconvert_exporter": "python",
   "pygments_lexer": "ipython3",
   "version": "3.13.5"
  }
 },
 "nbformat": 4,
 "nbformat_minor": 5
}
