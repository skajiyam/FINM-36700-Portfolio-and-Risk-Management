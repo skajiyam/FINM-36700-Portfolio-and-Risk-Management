{
 "cells": [
  {
   "cell_type": "code",
   "execution_count": null,
   "id": "81e57361",
   "metadata": {},
   "outputs": [],
   "source": [
    "import numpy as np\n",
    "import pandas as pd\n",
    "\n",
    "barnstable_data = pd.read_excel(\"barnstable_analysis_data.xlsx\", sheet_name = \"data\")"
   ]
  },
  {
   "cell_type": "markdown",
   "id": "71f523a1",
   "metadata": {},
   "source": [
    "### 1 Summary Statistics"
   ]
  },
  {
   "cell_type": "code",
   "execution_count": null,
   "id": "8e81f6a8",
   "metadata": {},
   "outputs": [],
   "source": []
  },
  {
   "cell_type": "markdown",
   "id": "82a29282",
   "metadata": {},
   "source": []
  },
  {
   "cell_type": "markdown",
   "id": "f688647c",
   "metadata": {},
   "source": [
    "### 2 Probability of Underperformance"
   ]
  },
  {
   "cell_type": "code",
   "execution_count": null,
   "id": "8b2c2116",
   "metadata": {},
   "outputs": [],
   "source": []
  },
  {
   "cell_type": "markdown",
   "id": "477fd93b",
   "metadata": {},
   "source": [
    "### 3 Full Sample Analysis"
   ]
  },
  {
   "cell_type": "code",
   "execution_count": null,
   "id": "c4c22488",
   "metadata": {},
   "outputs": [],
   "source": []
  },
  {
   "cell_type": "markdown",
   "id": "b8d714cc",
   "metadata": {},
   "source": [
    "### 4 IS Estimate & OOS Likelihood"
   ]
  },
  {
   "cell_type": "code",
   "execution_count": null,
   "id": "05290d42",
   "metadata": {},
   "outputs": [],
   "source": []
  }
 ],
 "metadata": {
  "kernelspec": {
   "display_name": "finm",
   "language": "python",
   "name": "python3"
  },
  "language_info": {
   "name": "python",
   "version": "3.13.5"
  }
 },
 "nbformat": 4,
 "nbformat_minor": 5
}
