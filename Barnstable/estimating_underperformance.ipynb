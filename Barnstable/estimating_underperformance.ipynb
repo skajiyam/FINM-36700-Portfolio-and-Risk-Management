{
 "cells": [
  {
   "cell_type": "code",
   "execution_count": 45,
   "id": "81e57361",
   "metadata": {},
   "outputs": [
    {
     "data": {
      "text/html": [
       "<div>\n",
       "<style scoped>\n",
       "    .dataframe tbody tr th:only-of-type {\n",
       "        vertical-align: middle;\n",
       "    }\n",
       "\n",
       "    .dataframe tbody tr th {\n",
       "        vertical-align: top;\n",
       "    }\n",
       "\n",
       "    .dataframe thead th {\n",
       "        text-align: right;\n",
       "    }\n",
       "</style>\n",
       "<table border=\"1\" class=\"dataframe\">\n",
       "  <thead>\n",
       "    <tr style=\"text-align: right;\">\n",
       "      <th></th>\n",
       "      <th>SPX</th>\n",
       "      <th>TB1M</th>\n",
       "    </tr>\n",
       "    <tr>\n",
       "      <th>date</th>\n",
       "      <th></th>\n",
       "      <th></th>\n",
       "    </tr>\n",
       "  </thead>\n",
       "  <tbody>\n",
       "    <tr>\n",
       "      <th>1926-01-30</th>\n",
       "      <td>-0.001783</td>\n",
       "      <td>0.003061</td>\n",
       "    </tr>\n",
       "    <tr>\n",
       "      <th>1926-02-27</th>\n",
       "      <td>-0.033297</td>\n",
       "      <td>0.002612</td>\n",
       "    </tr>\n",
       "    <tr>\n",
       "      <th>1926-03-31</th>\n",
       "      <td>-0.057708</td>\n",
       "      <td>0.002601</td>\n",
       "    </tr>\n",
       "    <tr>\n",
       "      <th>1926-04-30</th>\n",
       "      <td>0.038522</td>\n",
       "      <td>0.002270</td>\n",
       "    </tr>\n",
       "    <tr>\n",
       "      <th>1926-05-28</th>\n",
       "      <td>0.013623</td>\n",
       "      <td>0.002691</td>\n",
       "    </tr>\n",
       "  </tbody>\n",
       "</table>\n",
       "</div>"
      ],
      "text/plain": [
       "                 SPX      TB1M\n",
       "date                          \n",
       "1926-01-30 -0.001783  0.003061\n",
       "1926-02-27 -0.033297  0.002612\n",
       "1926-03-31 -0.057708  0.002601\n",
       "1926-04-30  0.038522  0.002270\n",
       "1926-05-28  0.013623  0.002691"
      ]
     },
     "execution_count": 45,
     "metadata": {},
     "output_type": "execute_result"
    }
   ],
   "source": [
    "import matplotlib.pyplot as plt\n",
    "import numpy as np\n",
    "import pandas as pd\n",
    "from scipy.stats import norm\n",
    "\n",
    "barnstable_data = pd.read_excel(\"barnstable_analysis_data.xlsx\", sheet_name = \"data\")\n",
    "barnstable_data['date'] = pd.to_datetime(barnstable_data['date'])\n",
    "barnstable_data.set_index('date', inplace = True)\n",
    "\n",
    "barnstable_data.head()"
   ]
  },
  {
   "cell_type": "markdown",
   "id": "71f523a1",
   "metadata": {},
   "source": [
    "### 1 Summary Statistics"
   ]
  },
  {
   "cell_type": "code",
   "execution_count": 46,
   "id": "8e81f6a8",
   "metadata": {},
   "outputs": [
    {
     "data": {
      "text/html": [
       "<div>\n",
       "<style scoped>\n",
       "    .dataframe tbody tr th:only-of-type {\n",
       "        vertical-align: middle;\n",
       "    }\n",
       "\n",
       "    .dataframe tbody tr th {\n",
       "        vertical-align: top;\n",
       "    }\n",
       "\n",
       "    .dataframe thead th {\n",
       "        text-align: right;\n",
       "    }\n",
       "</style>\n",
       "<table border=\"1\" class=\"dataframe\">\n",
       "  <thead>\n",
       "    <tr style=\"text-align: right;\">\n",
       "      <th>Period</th>\n",
       "      <th>1965 - 1999</th>\n",
       "      <th>2000 - END</th>\n",
       "      <th>1926 - END</th>\n",
       "    </tr>\n",
       "  </thead>\n",
       "  <tbody>\n",
       "    <tr>\n",
       "      <th>r_m_mean</th>\n",
       "      <td>0.12935</td>\n",
       "      <td>0.08754</td>\n",
       "      <td>0.11553</td>\n",
       "    </tr>\n",
       "    <tr>\n",
       "      <th>r_m_vol</th>\n",
       "      <td>0.14941</td>\n",
       "      <td>0.15281</td>\n",
       "      <td>0.18665</td>\n",
       "    </tr>\n",
       "    <tr>\n",
       "      <th>r_tilde_m_mean</th>\n",
       "      <td>0.06866</td>\n",
       "      <td>0.07009</td>\n",
       "      <td>0.08331</td>\n",
       "    </tr>\n",
       "    <tr>\n",
       "      <th>r_tilde_m_vol</th>\n",
       "      <td>0.15023</td>\n",
       "      <td>0.15309</td>\n",
       "      <td>0.18733</td>\n",
       "    </tr>\n",
       "    <tr>\n",
       "      <th>r_f_mean</th>\n",
       "      <td>0.06150</td>\n",
       "      <td>0.01745</td>\n",
       "      <td>0.03193</td>\n",
       "    </tr>\n",
       "    <tr>\n",
       "      <th>r_f_vol</th>\n",
       "      <td>0.00718</td>\n",
       "      <td>0.00555</td>\n",
       "      <td>0.00851</td>\n",
       "    </tr>\n",
       "    <tr>\n",
       "      <th>log_r_m_mean</th>\n",
       "      <td>0.11760</td>\n",
       "      <td>0.07555</td>\n",
       "      <td>0.09782</td>\n",
       "    </tr>\n",
       "    <tr>\n",
       "      <th>log_r_m_vol</th>\n",
       "      <td>0.14957</td>\n",
       "      <td>0.15376</td>\n",
       "      <td>0.18594</td>\n",
       "    </tr>\n",
       "    <tr>\n",
       "      <th>log_r_tilde_m_mean</th>\n",
       "      <td>0.05706</td>\n",
       "      <td>0.05813</td>\n",
       "      <td>0.06561</td>\n",
       "    </tr>\n",
       "    <tr>\n",
       "      <th>log_r_tilde_m_vol</th>\n",
       "      <td>0.15040</td>\n",
       "      <td>0.15403</td>\n",
       "      <td>0.18655</td>\n",
       "    </tr>\n",
       "    <tr>\n",
       "      <th>log_r_f_mean</th>\n",
       "      <td>0.06132</td>\n",
       "      <td>0.01742</td>\n",
       "      <td>0.03185</td>\n",
       "    </tr>\n",
       "    <tr>\n",
       "      <th>log_r_f_vol</th>\n",
       "      <td>0.00713</td>\n",
       "      <td>0.00554</td>\n",
       "      <td>0.00847</td>\n",
       "    </tr>\n",
       "  </tbody>\n",
       "</table>\n",
       "</div>"
      ],
      "text/plain": [
       "Period              1965 - 1999  2000 - END  1926 - END\n",
       "r_m_mean                0.12935     0.08754     0.11553\n",
       "r_m_vol                 0.14941     0.15281     0.18665\n",
       "r_tilde_m_mean          0.06866     0.07009     0.08331\n",
       "r_tilde_m_vol           0.15023     0.15309     0.18733\n",
       "r_f_mean                0.06150     0.01745     0.03193\n",
       "r_f_vol                 0.00718     0.00555     0.00851\n",
       "log_r_m_mean            0.11760     0.07555     0.09782\n",
       "log_r_m_vol             0.14957     0.15376     0.18594\n",
       "log_r_tilde_m_mean      0.05706     0.05813     0.06561\n",
       "log_r_tilde_m_vol       0.15040     0.15403     0.18655\n",
       "log_r_f_mean            0.06132     0.01742     0.03185\n",
       "log_r_f_vol             0.00713     0.00554     0.00847"
      ]
     },
     "execution_count": 46,
     "metadata": {},
     "output_type": "execute_result"
    }
   ],
   "source": [
    "subperiods = {\n",
    "    \"1965 - 1999\" : (1965, 1999),\n",
    "    \"2000 - END\": (2000, barnstable_data.index.year.max() ),\n",
    "    \"1926 - END\" : (1926, barnstable_data.index.year.max())\n",
    "}\n",
    "\n",
    "ANNUAL_FACTOR = 12\n",
    "\n",
    "barnstable_data['excess_r_m'] = barnstable_data['SPX'] - barnstable_data['TB1M']\n",
    "\n",
    "#Log Levels:\n",
    "barnstable_data['log_SPX'] = np.log(1 + barnstable_data['SPX'])\n",
    "barnstable_data['log_TB1M'] = np.log(1 + barnstable_data['TB1M'])\n",
    "barnstable_data['excess_log_m'] = barnstable_data['log_SPX'] - barnstable_data['log_TB1M']\n",
    "\n",
    "def annual_stats(data):\n",
    "    mean = data.mean() * ANNUAL_FACTOR\n",
    "    vol = data.std() * np.sqrt(ANNUAL_FACTOR)\n",
    "    return mean, vol\n",
    "\n",
    "#Show Results in DataFrame:\n",
    "outputs = []\n",
    "for period, (start, end) in subperiods.items():\n",
    "    subperiod = barnstable_data[(barnstable_data.index.year >= start) & \\\n",
    "                                (barnstable_data.index.year <= end)]\n",
    "    #Levels:\n",
    "    rm_mean, rm_vol = annual_stats(subperiod['SPX'])\n",
    "    rxm_mean, rxm_vol = annual_stats(subperiod['excess_r_m'])\n",
    "    rf_mean, rf_vol = annual_stats(subperiod['TB1M'])\n",
    "\n",
    "    #Log Levels:\n",
    "    rm_log_mean, rm_log_vol = annual_stats(subperiod['log_SPX'])\n",
    "    rxm_log_mean, rxm_log_vol = annual_stats(subperiod['excess_log_m'])\n",
    "    rf_log_mean, rf_log_vol = annual_stats(subperiod['log_TB1M'])\n",
    "\n",
    "    outputs.append({\n",
    "        \"Period\" : period,\n",
    "        \"r_m_mean\" : rm_mean, \"r_m_vol\": rm_vol,\n",
    "        \"r_tilde_m_mean\" : rxm_mean, \"r_tilde_m_vol\" : rxm_vol,\n",
    "        \"r_f_mean\" : rf_mean, \"r_f_vol\": rf_vol,\n",
    "        \"log_r_m_mean\" : rm_log_mean, \"log_r_m_vol\" : rm_log_vol,\n",
    "        \"log_r_tilde_m_mean\": rxm_log_mean, \"log_r_tilde_m_vol\": rxm_log_vol,\n",
    "        \"log_r_f_mean\" : rf_log_mean, \"log_r_f_vol\" :rf_log_vol\n",
    "    })\n",
    "\n",
    "summary_stats = pd.DataFrame(outputs).set_index(\"Period\").round(5)\n",
    "summary_stats.T"
   ]
  },
  {
   "cell_type": "markdown",
   "id": "3d0d568f",
   "metadata": {},
   "source": [
    "### Full Sample vs Sub-Sample:\n",
    "\n",
    "Looking at the values above, all three categories had a similar performance. Breaking this down, it looks like the performance of the period from 2000-END is lower than that of 1965-1999, and the 1926-END period captures somewhere in between the other categories' performances. \n",
    "\n",
    "Of note, the 1965-1999 period has the highest mean market return (~12%). Also, the mean risk-free rate sharply falls after 2000 to 1.7%, down from a  mean of 6% in the period before. \n",
    "\n",
    "### Level Stats vs Log Stats:\n",
    "\n",
    "Although the log stats have a slightly lower mean than the level stats, the volatility stats for both categories are nearly identical. This indicates that log(1+r) = r holds well and log approximations work well for this specific data.\n"
   ]
  },
  {
   "cell_type": "markdown",
   "id": "82a29282",
   "metadata": {},
   "source": []
  },
  {
   "cell_type": "markdown",
   "id": "f688647c",
   "metadata": {},
   "source": [
    "### 2 Probability of Underperformance"
   ]
  },
  {
   "cell_type": "code",
   "execution_count": null,
   "id": "8b2c2116",
   "metadata": {},
   "outputs": [
    {
     "name": "stdout",
     "output_type": "stream",
     "text": [
      "Probability of Underperformance from 1965 - 1999:  0.37939\n"
     ]
    }
   ],
   "source": [
    "#2.1 - probability for 1965-1999\n",
    "mu = summary_stats.loc['1965 - 1999', 'log_r_tilde_m_mean']\n",
    "sigma = summary_stats.loc['1965 - 1999', 'log_r_tilde_m_vol']\n",
    "sharpe = mu / sigma\n",
    "sharpe = sharpe.round(5)\n",
    "\n",
    "print('Probability of Underperformance from 1965 - 1999: ', sharpe)\n"
   ]
  },
  {
   "cell_type": "markdown",
   "id": "68fe84fd",
   "metadata": {},
   "source": []
  },
  {
   "cell_type": "code",
   "execution_count": 48,
   "id": "9abe516f",
   "metadata": {},
   "outputs": [
    {
     "data": {
      "text/html": [
       "<div>\n",
       "<style scoped>\n",
       "    .dataframe tbody tr th:only-of-type {\n",
       "        vertical-align: middle;\n",
       "    }\n",
       "\n",
       "    .dataframe tbody tr th {\n",
       "        vertical-align: top;\n",
       "    }\n",
       "\n",
       "    .dataframe thead th {\n",
       "        text-align: right;\n",
       "    }\n",
       "</style>\n",
       "<table border=\"1\" class=\"dataframe\">\n",
       "  <thead>\n",
       "    <tr style=\"text-align: right;\">\n",
       "      <th></th>\n",
       "      <th>Probability of Underperformance</th>\n",
       "    </tr>\n",
       "  </thead>\n",
       "  <tbody>\n",
       "    <tr>\n",
       "      <th>15 Years</th>\n",
       "      <td>0.070866</td>\n",
       "    </tr>\n",
       "    <tr>\n",
       "      <th>30 Years</th>\n",
       "      <td>0.018854</td>\n",
       "    </tr>\n",
       "  </tbody>\n",
       "</table>\n",
       "</div>"
      ],
      "text/plain": [
       "          Probability of Underperformance\n",
       "15 Years                         0.070866\n",
       "30 Years                         0.018854"
      ]
     },
     "execution_count": 48,
     "metadata": {},
     "output_type": "execute_result"
    }
   ],
   "source": [
    "#2.2 - precise probability for h = 15 & h = 30 years\n",
    "def p_underperform(h):\n",
    "    return norm.cdf(-np.sqrt(h) * sharpe)\n",
    "\n",
    "precise_stats = pd.DataFrame({\n",
    "    \"15 Years\" : [p_underperform(15)],\n",
    "    \"30 Years\" : [p_underperform(30)]\n",
    "}).T\n",
    "precise_stats.columns = ['Probability of Underperformance']\n",
    "precise_stats"
   ]
  },
  {
   "cell_type": "code",
   "execution_count": 50,
   "id": "fed0a7f4",
   "metadata": {},
   "outputs": [
    {
     "data": {
      "image/png": "[encoded data removed]",
      "text/plain": [
       "<Figure size 1500x1000 with 1 Axes>"
      ]
     },
     "metadata": {},
     "output_type": "display_data"
    }
   ],
   "source": [
    "#2.3 - plot probability\n",
    "mu_full = summary_stats.loc['1926 - END', 'log_r_tilde_m_mean']\n",
    "sigma_full = summary_stats.loc['1926 - END', 'log_r_tilde_m_vol']\n",
    "sharpe_full = mu_full / sigma_full\n",
    "h = np.linspace(0.1, 30, 300)\n",
    "p_h = norm.cdf(-np.sqrt(h) * sharpe_full)\n",
    "\n",
    "plt.figure(figsize = (15,10))\n",
    "plt.plot(h, p_h, color = 'green')\n",
    "plt.xlabel('Investment Horizon (years)')\n",
    "plt.ylabel('Probability')\n",
    "plt.title('Probability of Underperformance vs Investment Horizon from 1926-END')\n",
    "plt.show()"
   ]
  },
  {
   "cell_type": "markdown",
   "id": "e28fd2f6",
   "metadata": {},
   "source": []
  },
  {
   "cell_type": "markdown",
   "id": "477fd93b",
   "metadata": {},
   "source": [
    "### 3 Full Sample Analysis"
   ]
  },
  {
   "cell_type": "code",
   "execution_count": null,
   "id": "c4c22488",
   "metadata": {},
   "outputs": [],
   "source": []
  },
  {
   "cell_type": "markdown",
   "id": "b8d714cc",
   "metadata": {},
   "source": [
    "### 4 IS Estimate & OOS Likelihood"
   ]
  },
  {
   "cell_type": "code",
   "execution_count": null,
   "id": "05290d42",
   "metadata": {},
   "outputs": [],
   "source": []
  }
 ],
 "metadata": {
  "kernelspec": {
   "display_name": "finm",
   "language": "python",
   "name": "python3"
  },
  "language_info": {
   "codemirror_mode": {
    "name": "ipython",
    "version": 3
   },
   "file_extension": ".py",
   "mimetype": "text/x-python",
   "name": "python",
   "nbconvert_exporter": "python",
   "pygments_lexer": "ipython3",
   "version": "3.13.5"
  }
 },
 "nbformat": 4,
 "nbformat_minor": 5
}
